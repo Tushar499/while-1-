{
  "nbformat": 4,
  "nbformat_minor": 0,
  "metadata": {
    "colab": {
      "provenance": []
    },
    "kernelspec": {
      "name": "python3",
      "display_name": "Python 3"
    },
    "language_info": {
      "name": "python"
    }
  },
  "cells": [
    {
      "cell_type": "code",
      "execution_count": 197,
      "metadata": {
        "id": "0s3BromZcve2"
      },
      "outputs": [],
      "source": [
        "import math\n",
        "from queue import PriorityQueue"
      ]
    },
    {
      "cell_type": "code",
      "source": [
        "# Function to calculate the Euclidean distance between two nodes\n",
        "def euclidean_distance(n1, n2):\n",
        "    x1, y1 = coords[n1]\n",
        "    x2, y2 = coords[n2]\n",
        "    return math.sqrt((x1 - x2) ** 2 + (y1 - y2) ** 2)"
      ],
      "metadata": {
        "id": "av5KsZzUcwwx"
      },
      "execution_count": 198,
      "outputs": []
    },
    {
      "cell_type": "code",
      "source": [
        "# Function to calculate the heuristic value for a given node\n",
        "def heuristic(node):\n",
        "    return euclidean_distance(node, goalnid)"
      ],
      "metadata": {
        "id": "sFCKPsh1c0KT"
      },
      "execution_count": 199,
      "outputs": []
    },
    {
      "cell_type": "code",
      "source": [],
      "metadata": {
        "id": "mT1gMvoDc7KW"
      },
      "execution_count": 199,
      "outputs": []
    },
    {
      "cell_type": "code",
      "source": [
        "class State:\n",
        "    # Constructor\n",
        "    def __init__(self, node, parent, g, f):\n",
        "        self.id = node\n",
        "        self.parent = parent\n",
        "        self.g = g # cost so far\n",
        "        self.f = f # estimated total cost\n",
        "\n",
        "    def __lt__(self, other):\n",
        "        return self.f < other.f\n",
        "\n",
        "    def __eq__(self, other):\n",
        "        return self.id == other.id\n",
        "\n",
        "    def __str__(self):\n",
        "        return f\"({self.id}, {self.g}, {self.f}, {self.parent.id})\"\n"
      ],
      "metadata": {
        "id": "xzEU6Ee0c8mA"
      },
      "execution_count": 200,
      "outputs": []
    },
    {
      "cell_type": "code",
      "source": [
        "# Read input from file\n",
        "coords = {} # node id is the key\n",
        "adjlist = {} # node id is the key\n",
        "with open('input.txt', 'r') as f:\n",
        "    V = int(f.readline()) \n",
        "    for i in range(V):\n",
        "        strs = f.readline().split()\n",
        "        nid, x, y = strs[0], int(strs[1]), int(strs[2])\n",
        "        coords[nid] = (x, y) # x, y kept as a tuple \n",
        "        adjlist[nid] = [] #create empty list for each node's adjnodes\n",
        "\n",
        "    E = int(f.readline())\n",
        "    for i in range(E):\n",
        "        strs = f.readline().split()\n",
        "        n1, n2, c = strs[0], strs[1], int(strs[2])\n",
        "        adjlist[n1].append((n2, c)) # (n2, c) tuple\n",
        "    startnid = f.readline().rstrip()\n",
        "    goalnid = f.readline().rstrip()\n",
        "    \n",
        "    #print(startnid,goalnid)  \n",
        "    ''' \n",
        "    print('graph')\n",
        "    for nid in adjlist:\n",
        "        print(nid, coords[nid], '--->',  adjlist[nid])\n",
        "        for tup in adjlist[nid]:\n",
        "            print('\\t', tup[0], tup[1])\n",
        "    print('start', startnid, 'goal', goalnid)   \n",
        "    ''' "
      ],
      "metadata": {
        "id": "zsCKw9nLdEk0"
      },
      "execution_count": 201,
      "outputs": []
    },
    {
      "cell_type": "code",
      "source": [
        "# Implement A* search algorithm\n",
        "start = State(startnid, None, 0, heuristic(startnid))\n",
        "minQ = PriorityQueue()\n",
        "minQ.put(start)\n",
        "\n",
        "visited = set()\n",
        "\n",
        "while not minQ.empty():\n",
        "    curr = minQ.get()\n",
        "\n",
        "    if curr.id in visited:\n",
        "        continue\n",
        "\n",
        "    visited.add(curr.id)\n",
        "\n",
        "    if curr.id == goalnid:\n",
        "        # Goal state found, construct solution path\n",
        "        path = []\n",
        "        cost = curr.g\n",
        "        while curr:\n",
        "            path.append(curr.id)\n",
        "            curr = curr.parent\n",
        "        path.reverse()\n",
        "        print(\"Solution path\", \"–\".join(path))\n",
        "        print(\"Solution cost\", cost)\n",
        "        break\n",
        "    # Expand the current state by considering all its neighbors\n",
        "    for neighbor, cost in adjlist[curr.id]:\n",
        "        g = curr.g + cost\n",
        "        h = heuristic(neighbor)\n",
        "        f = g + h\n",
        "        newstate = State(neighbor, curr, g, f)\n",
        "        minQ.put(newstate)\n",
        "\n",
        "    '''\n",
        "    Mahmudur Rahman Tushar\n",
        "    ID: 011202080 | Section C\n",
        "    Artificial Intelligence Laboratory\n",
        "    '''                "
      ],
      "metadata": {
        "colab": {
          "base_uri": "https://localhost:8080/"
        },
        "id": "PLL5G3NPdMOu",
        "outputId": "5f9e1169-f54e-460e-d8ee-fa322bea043b"
      },
      "execution_count": 202,
      "outputs": [
        {
          "output_type": "stream",
          "name": "stdout",
          "text": [
            "Solution path S–C–G\n",
            "Solution cost 6\n"
          ]
        }
      ]
    }
  ]
}